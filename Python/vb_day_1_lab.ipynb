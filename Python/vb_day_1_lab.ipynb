{
 "cells": [
  {
   "cell_type": "markdown",
   "metadata": {},
   "source": [
    "## Vision Bootcamp - Day 1: Practical Application\n",
    "\n",
    "### Description of the Practical App.\n",
    "\n",
    "The aim of this practical application is to integrate an object detection method into a specific part of the code to detect objects in images captured by the Basler camera, either by connecting to a live camera or by loading an image from a file. Using object detection techniques, we will identify and highlight the INTEMAC logo in the captured image through approaches such as contour detection, shape analysis, or template matching.\n",
    "\n",
    "Participants are encouraged to choose the object detection technique based on the prior demonstration and their own knowledge."
   ]
  },
  {
   "cell_type": "markdown",
   "metadata": {},
   "source": [
    "## Importing Required Libraries\n",
    "\n",
    "In this first step, we import the necessary libraries that will be used throughout this practical app.:\n",
    "\n",
    "- **OpenCV (`cv2`)**: This is the main library we’ll use for image processing tasks, such as reading, displaying, and manipulating images.\n",
    "- **Matplotlib (`plt`)**: We use this library for plotting images and displaying results inside the notebook.\n",
    "- **NumPy (`np`)**: NumPy is a powerful library that helps with numerical operations, including matrix and array manipulations, which are essential in computer vision tasks.\n",
    "- **OS (`os`)**: This helps with file and directory operations, allowing us to load and save images from specific locations on your computer.\n",
    "- **Utilities.Camera (`Basler_Cls`)**: The `Basler_Cls` class is designed to interface with Basler cameras using the `pypylon` library. It allows us to configure the camera, capture images, and release resources when done.\n",
    "\n",
    "This is the foundation for a smooth OpenCV workflow, and with these tools, we can start manipulating images in an interactive and fun way!"
   ]
  },
  {
   "cell_type": "code",
   "execution_count": null,
   "metadata": {},
   "outputs": [],
   "source": [
    "# Importing required libraries\n",
    "\n",
    "# OpenCV library for computer vision tasks\n",
    "import cv2\n",
    "\n",
    "# Matplotlib for plotting and displaying images\n",
    "import matplotlib.pyplot as plt\n",
    "\n",
    "# OS module for file handling and accessing directories\n",
    "import os\n",
    "\n",
    "# Library to work with Basler cameras\n",
    "from Utilities.Camera import Basler_Cls"
   ]
  },
  {
   "cell_type": "markdown",
   "metadata": {},
   "source": [
    "# Simple Object Detection Using Basler Camera and VMR Lighting\n",
    "\n",
    "## Practical Setup\n",
    "\n",
    "- **Camera Model**: Basler a2A2448-23gcPRO GigE Camera \n",
    "- **Lighting**: VMR-11566 Multi Angle Ring Light"
   ]
  },
  {
   "cell_type": "markdown",
   "metadata": {},
   "source": [
    "This section demonstrates how to configure a **Basler camera (a2A2448-23gcPRO)** with custom settings, capture an image, and perform basic object detection using OpenCV. The system is equipped with the **VMR-11566W lighting** for optimal illumination in **stand no. 1**. "
   ]
  },
  {
   "cell_type": "code",
   "execution_count": null,
   "metadata": {},
   "outputs": [],
   "source": [
    "# Custom camera configuration\n",
    "custom_cfg = {\n",
    "    'exposure_time': 5000,\n",
    "    'gain': 15,\n",
    "    'balance_ratios': {'Red': 1.3, 'Green': 1.0, 'Blue': 1.1},\n",
    "    'pixel_format': 'BayerRG8'\n",
    "}\n",
    "\n",
    "# Initialize and configure the Basler camera\n",
    "Basler_Cam_Id_1 = Basler_Cls(config=custom_cfg)\n",
    "\n",
    "# Capture a single image\n",
    "img_raw = Basler_Cam_Id_1.Capture()\n",
    "if img_raw is not None:\n",
    "    # Convert the image from BGR to RGB color format\n",
    "    img_rgb = cv2.cvtColor(img_raw, cv2.COLOR_BGR2RGB)\n",
    "else:\n",
    "    raise ValueError('No image captured!')\n",
    "\n",
    "# Release the camera resources\n",
    "del Basler_Cam_Id_1\n",
    "\n",
    "# Copy the original image to draw contours and bounding boxes on it\n",
    "img_registred_1 = img_rgb.copy()\n",
    "\n",
    "# Add object detection code here...\n",
    "\n",
    "# Show the result with bounding boxes around detected objects\n",
    "if img_registred_1 is not None:\n",
    "    plt.figure(figsize=(12, 6))\n",
    "    plt.imshow(img_registred_1)\n",
    "    plt.title('Contour and Shape Analysis')\n",
    "    plt.axis('off')\n",
    "else:\n",
    "    print(\"No object detection results\")\n",
    "\n",
    "# Adjust layout and display all images side by side\n",
    "plt.tight_layout()\n",
    "plt.show()"
   ]
  },
  {
   "cell_type": "markdown",
   "metadata": {},
   "source": [
    "This section demonstrates how to load the image captured by the camera on **stand no. 1** and perform basic object detection using OpenCV.  "
   ]
  },
  {
   "cell_type": "code",
   "execution_count": null,
   "metadata": {},
   "outputs": [],
   "source": [
    "# HW setup of machine vision stands\n",
    "#   Stand_1: Basler a2A2448-23gcPRO GigE Camera; VMR-11566 Multi Angle Ring Light\n",
    "#   Stand_2: Basler a2A1920-51gcPRO GigE Camera; EFFI-FD-200-200-000 High-Power Flat Light\n",
    "\n",
    "# Define file path for the image location\n",
    "file_path = '../Data/Stand_1/Raw'\n",
    "\n",
    "# Create the directory if it doesn't already exist\n",
    "os.makedirs(file_path, exist_ok=True)  # Ensures the folder exists for storing the image\n",
    "\n",
    "# Define the path to the image file\n",
    "img_path_in = os.path.join(file_path, 'Image_1.png')\n",
    "\n",
    "# Load the image using OpenCV\n",
    "img_raw = cv2.imread(img_path_in)\n",
    "\n",
    "# Check if the image exists\n",
    "if img_raw is None:\n",
    "    # Raise error if the image isn't found\n",
    "    raise FileNotFoundError(f'Image not found at {img_path_in}')\n",
    "\n",
    "# Copy the original image to draw contours and bounding boxes on it\n",
    "img_registred_1 = img_rgb.copy()\n",
    "\n",
    "# Add object detection code here...\n",
    "\n",
    "# Show the result with bounding boxes around detected objects\n",
    "if img_registred_1 is not None:\n",
    "    plt.figure(figsize=(12, 6))\n",
    "    plt.imshow(img_registred_1)\n",
    "    plt.title('Contour and Shape Analysis')\n",
    "    plt.axis('off')\n",
    "else:\n",
    "    print(\"No object detection results\")\n",
    "\n",
    "# Adjust layout and display all images side by side\n",
    "plt.tight_layout()\n",
    "plt.show()\n"
   ]
  },
  {
   "cell_type": "markdown",
   "metadata": {},
   "source": [
    "# Simple Object Detection Using Basler Camera and EFFI-FD Lighting\n",
    "\n",
    "## Practical Setup\n",
    "\n",
    "- **Camera Model**: Basler a2A1920-51gcPRO GigE Camera\n",
    "- **Lighting**: EFFI-FD-200-200-000 High-Power Flat Light"
   ]
  },
  {
   "cell_type": "markdown",
   "metadata": {},
   "source": [
    "This section demonstrates how to configure a **Basler camera (a2A1920-51gcPRO)** with custom settings, capture an image, and perform basic object detection method using OpenCV. The system is equipped with the **EFFI-FD-200-200-000 lighting** for optimal illumination in **stand no. 2**. "
   ]
  },
  {
   "cell_type": "code",
   "execution_count": null,
   "metadata": {},
   "outputs": [],
   "source": [
    "# Custom camera configuration\n",
    "custom_cfg = {\n",
    "    'exposure_time': 1000,\n",
    "    'gain': 15,\n",
    "    'balance_ratios': {'Red': 1.1, 'Green': 1.0, 'Blue': 1.3},\n",
    "    'pixel_format': 'BayerRG8'\n",
    "}\n",
    "\n",
    "# Initialize and configure the Basler camera\n",
    "Basler_Cam_Id_2 = Basler_Cls(config=custom_cfg)\n",
    "\n",
    "# Capture a single image\n",
    "img_raw = Basler_Cam_Id_2.Capture()\n",
    "if img_raw is not None:\n",
    "    # Convert the image from BGR to RGB color format\n",
    "    img_rgb = cv2.cvtColor(img_raw, cv2.COLOR_BGR2RGB)\n",
    "else:\n",
    "    raise ValueError('No image captured!')\n",
    "\n",
    "# Release the camera resources\n",
    "del Basler_Cam_Id_2\n",
    "\n",
    "# Copy the original image to draw contours and bounding boxes on it\n",
    "img_registred_2 = img_rgb.copy()\n",
    "\n",
    "# Show the result with bounding boxes around detected objects\n",
    "if img_registred_2 is not None:\n",
    "    plt.figure(figsize=(12, 6))\n",
    "    plt.imshow(img_registred_2)\n",
    "    plt.title('Contour and Shape Analysis')\n",
    "    plt.axis('off')\n",
    "else:\n",
    "    print(\"No object detection results\")\n",
    "\n",
    "# Adjust layout and display all images side by side\n",
    "plt.tight_layout()\n",
    "plt.show()"
   ]
  },
  {
   "cell_type": "markdown",
   "metadata": {},
   "source": [
    "This section demonstrates how to load the image captured by the camera on **stand no. 2** and perform basic object detection using OpenCV.  "
   ]
  },
  {
   "cell_type": "code",
   "execution_count": null,
   "metadata": {},
   "outputs": [],
   "source": [
    "# HW setup of machine vision stands\n",
    "#   Stand_1: Basler a2A2448-23gcPRO GigE Camera; VMR-11566 Multi Angle Ring Light\n",
    "#   Stand_2: Basler a2A1920-51gcPRO GigE Camera; EFFI-FD-200-200-000 High-Power Flat Light\n",
    "\n",
    "# Define file path for the image location\n",
    "file_path = '../Data/Stand_2/Raw'\n",
    "\n",
    "# Create the directory if it doesn't already exist\n",
    "os.makedirs(file_path, exist_ok=True)  # Ensures the folder exists for storing the image\n",
    "\n",
    "# Define the path to the image file\n",
    "img_path_in = os.path.join(file_path, 'Image_1.png')\n",
    "\n",
    "# Load the image using OpenCV\n",
    "img_raw = cv2.imread(img_path_in)\n",
    "\n",
    "# Check if the image exists\n",
    "if img_raw is None:\n",
    "    # Raise error if the image isn't found\n",
    "    raise FileNotFoundError(f'Image not found at {img_path_in}')\n",
    "\n",
    "# Convert the image from BGR to RGB color format\n",
    "img_rgb = cv2.cvtColor(img_raw, cv2.COLOR_BGR2RGB)\n",
    "\n",
    "# Copy the original image to draw contours and bounding boxes on it\n",
    "img_registred_2 = img_rgb.copy()\n",
    "\n",
    "# Add object detection code here...\n",
    "\n",
    "# Show the result with bounding boxes around detected objects\n",
    "if img_registred_2 is not None:\n",
    "    plt.figure(figsize=(12, 6))\n",
    "    plt.imshow(img_registred_2)\n",
    "    plt.title('Contour and Shape Analysis')\n",
    "    plt.axis('off')\n",
    "else:\n",
    "    print(\"No object detection results\")\n",
    "\n",
    "# Adjust layout and display all images side by side\n",
    "plt.tight_layout()\n",
    "plt.show()"
   ]
  }
 ],
 "metadata": {
  "kernelspec": {
   "display_name": "env_vb",
   "language": "python",
   "name": "python3"
  },
  "language_info": {
   "codemirror_mode": {
    "name": "ipython",
    "version": 3
   },
   "file_extension": ".py",
   "mimetype": "text/x-python",
   "name": "python",
   "nbconvert_exporter": "python",
   "pygments_lexer": "ipython3",
   "version": "3.9.21"
  }
 },
 "nbformat": 4,
 "nbformat_minor": 4
}
